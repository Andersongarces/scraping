{
 "cells": [
  {
   "cell_type": "code",
   "execution_count": 1,
   "metadata": {},
   "outputs": [],
   "source": [
    "import pandas as pd"
   ]
  },
  {
   "cell_type": "code",
   "execution_count": 3,
   "metadata": {},
   "outputs": [
    {
     "name": "stdout",
     "output_type": "stream",
     "text": [
      "            nombre\n",
      "0  anderson garces\n",
      "1           dinero\n",
      "2      porncentaje\n"
     ]
    }
   ],
   "source": [
    "# Crear el DataFrame\n",
    "df = pd.DataFrame({'nombre': ['#anderson garces%%', '$#dinero$', 'porncentaje%%']})\n",
    "\n",
    "# Lista de caracteres especiales\n",
    "caracteres_especiales = ['#', '%', '$']\n",
    "\n",
    "# Función para eliminar caracteres especiales\n",
    "def eliminar_caracteres_especiales(texto):\n",
    "    for caracter in caracteres_especiales:\n",
    "        texto = texto.replace(caracter, '')\n",
    "    return texto\n",
    "\n",
    "# Aplicar la función a todas las celdas del DataFrame\n",
    "df['Comentarios'] = df['Comentarios'].apply(eliminar_caracteres_especiales)\n",
    "\n",
    "print(df)\n"
   ]
  },
  {
   "cell_type": "code",
   "execution_count": 2,
   "metadata": {},
   "outputs": [
    {
     "name": "stdout",
     "output_type": "stream",
     "text": [
      "Nombres sin caracteres especiales: ['anderson', 'dinero', 'porncentaje anderson']\n"
     ]
    }
   ],
   "source": [
    "import re\n",
    "\n",
    "nombres = ['#anderson', 'dinero$', 'porncentaje%% anderson%*']\n",
    "nombres_sin_especiales = []\n",
    "\n",
    "for nombre in nombres:\n",
    "    nombre_sin_especiales = re.sub(r'[#$%*]', '', nombre)\n",
    "    nombres_sin_especiales.append(nombre_sin_especiales)\n",
    "\n",
    "print(\"Nombres sin caracteres especiales:\", nombres_sin_especiales)\n"
   ]
  }
 ],
 "metadata": {
  "kernelspec": {
   "display_name": "Python 3",
   "language": "python",
   "name": "python3"
  },
  "language_info": {
   "codemirror_mode": {
    "name": "ipython",
    "version": 3
   },
   "file_extension": ".py",
   "mimetype": "text/x-python",
   "name": "python",
   "nbconvert_exporter": "python",
   "pygments_lexer": "ipython3",
   "version": "3.12.2"
  }
 },
 "nbformat": 4,
 "nbformat_minor": 2
}
