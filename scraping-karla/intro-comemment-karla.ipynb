{
 "cells": [
  {
   "cell_type": "code",
   "execution_count": 13,
   "metadata": {},
   "outputs": [],
   "source": [
    "from textblob import TextBlob"
   ]
  },
  {
   "cell_type": "code",
   "execution_count": 15,
   "metadata": {},
   "outputs": [
    {
     "data": {
      "text/plain": [
       "Sentiment(polarity=0.75, subjectivity=0.44999999999999996)"
      ]
     },
     "execution_count": 15,
     "metadata": {},
     "output_type": "execute_result"
    }
   ],
   "source": [
    "comment = TextBlob(\"I love this book, because it is best\").sentiment\n",
    "comment "
   ]
  },
  {
   "cell_type": "code",
   "execution_count": 16,
   "metadata": {},
   "outputs": [
    {
     "data": {
      "text/plain": [
       "Sentiment(polarity=-0.6333333333333333, subjectivity=0.7222222222222222)"
      ]
     },
     "execution_count": 16,
     "metadata": {},
     "output_type": "execute_result"
    }
   ],
   "source": [
    "comment2 = TextBlob('this book is predictable, boring and smells bad').sentiment\n",
    "comment2 "
   ]
  },
  {
   "cell_type": "markdown",
   "metadata": {},
   "source": [
    "La polaridad del sentimiento es un valor numérico que indica si la oración tiene un sentimiento positivo, negativo o neutral. Un valor cercano a 1 indica un sentimiento positivo, un valor cercano a -1 indica un sentimiento negativo, y un valor cercano a 0 indica un sentimiento neutral. En este caso, se imprime la polaridad de cada oración en el texto."
   ]
  },
  {
   "cell_type": "code",
   "execution_count": 34,
   "metadata": {},
   "outputs": [
    {
     "data": {
      "text/plain": [
       "Sentiment(polarity=0.0, subjectivity=0.0)"
      ]
     },
     "execution_count": 34,
     "metadata": {},
     "output_type": "execute_result"
    }
   ],
   "source": [
    "comment3 = TextBlob('Este libro huele a caca de gato').sentiment\n",
    "comment3"
   ]
  },
  {
   "cell_type": "markdown",
   "metadata": {},
   "source": [
    "## Traducir los comentarios a español"
   ]
  },
  {
   "cell_type": "code",
   "execution_count": 18,
   "metadata": {},
   "outputs": [],
   "source": [
    "import nltk\n",
    "nltk.data.path.append(\"/Users/andersongarcesmolina/nltk_dataa\")\n"
   ]
  },
  {
   "cell_type": "code",
   "execution_count": 19,
   "metadata": {},
   "outputs": [],
   "source": [
    "from googletrans import Translator"
   ]
  },
  {
   "cell_type": "code",
   "execution_count": 20,
   "metadata": {},
   "outputs": [
    {
     "data": {
      "text/plain": [
       "'Hola'"
      ]
     },
     "execution_count": 20,
     "metadata": {},
     "output_type": "execute_result"
    }
   ],
   "source": [
    "translator = Translator()\n",
    "traduccion = translator.translate('Hi', dest='es')\n",
    "traduccion.text\n"
   ]
  },
  {
   "cell_type": "code",
   "execution_count": 27,
   "metadata": {},
   "outputs": [
    {
     "data": {
      "text/plain": [
       "Sentiment(polarity=-0.4, subjectivity=0.6)"
      ]
     },
     "execution_count": 27,
     "metadata": {},
     "output_type": "execute_result"
    }
   ],
   "source": [
    "# Crear un objeto Translator\n",
    "translator = Translator()\n",
    "\n",
    "# Texto en español que queremos analizar\n",
    "texto = \"La trama era predecible y el final fue decepcionante\"\n",
    "\n",
    "# Traducir el texto al inglés\n",
    "texto_ingles = translator.translate(texto, src='es', dest='en').text\n",
    "\n",
    "# Crear un objeto TextBlob con el texto traducido\n",
    "blob = TextBlob(texto_ingles)\n",
    "\n",
    "# Imprimir el sentimiento del texto traducido\n",
    "blob.sentiment"
   ]
  },
  {
   "cell_type": "code",
   "execution_count": 31,
   "metadata": {},
   "outputs": [
    {
     "data": {
      "text/plain": [
       "Sentiment(polarity=0.6, subjectivity=0.8)"
      ]
     },
     "execution_count": 31,
     "metadata": {},
     "output_type": "execute_result"
    }
   ],
   "source": [
    "translator = Translator()\n",
    "comment4 = 'Recomiendo este libro, porque me gustó mucho'\n",
    "traduccion = translator.translate(comment4, src='es', dest='en').text\n",
    "analysis = TextBlob(traduccion)\n",
    "analysis.sentiment "
   ]
  },
  {
   "cell_type": "code",
   "execution_count": 3,
   "metadata": {},
   "outputs": [
    {
     "name": "stdout",
     "output_type": "stream",
     "text": [
      "                                               Texto Adjetivos\n",
      "0  \\nLa rápida zorra marrón saltó sobre el perro ...          \n"
     ]
    }
   ],
   "source": [
    "import pandas as pd\n",
    "from textblob import TextBlob\n",
    "\n",
    "# Texto de ejemplo con 50 palabras\n",
    "texto_ejemplo = \"\"\"\n",
    "La rápida zorra marrón saltó sobre el perro perezoso y dormilón. El sol brillaba intensamente en el cielo azul. \n",
    "\"\"\"\n",
    "\n",
    "# Crear un objeto TextBlob con el texto\n",
    "blob = TextBlob(texto_ejemplo)\n",
    "\n",
    "# Lista para almacenar los adjetivos encontrados\n",
    "adjetivos = []\n",
    "\n",
    "# Iterar sobre cada palabra en el texto\n",
    "for palabra, etiqueta in blob.tags:\n",
    "    if etiqueta == 'JJ':  # 'JJ' es la etiqueta para adjetivos en TextBlob\n",
    "        adjetivos.append(palabra)\n",
    "\n",
    "# Crear un DataFrame con el texto y los adjetivos encontrados\n",
    "df = pd.DataFrame({'Texto': [texto_ejemplo], 'Adjetivos': [', '.join(adjetivos)]})\n",
    "\n",
    "# Mostrar el DataFrame\n",
    "print(df)\n"
   ]
  },
  {
   "cell_type": "markdown",
   "metadata": {},
   "source": [
    "### Previo hay que instalar NLTK  \n",
    "\n",
    "//\n",
    "\n",
    "python3 -m nltk.downloader all\n",
    "\n",
    "//\n",
    "\n",
    "NLTK (Natural Language Toolkit) es una biblioteca de Python ampliamente utilizada en el campo del procesamiento del lenguaje natural (NLP, por sus siglas en inglés). Proporciona una serie de herramientas y recursos para trabajar con texto y realizar una variedad de tareas relacionadas con el procesamiento del lenguaje natural. Algunas de las funcionalidades principales de NLTK incluyen:\n",
    "\n",
    "1. **Tokenización**: Divide el texto en unidades más pequeñas, como palabras o frases.\n",
    "\n",
    "2. **Segmentación de oraciones**: Divide el texto en oraciones individuales.\n",
    "\n",
    "3. **Etiquetado de partes del discurso**: Asigna a cada palabra en una oración una etiqueta que indica su función gramatical (por ejemplo, sustantivo, verbo, adjetivo, etc.).\n",
    "\n",
    "4. **Análisis de sentimientos**: Determina la polaridad (positiva, negativa o neutral) del texto.\n",
    "\n",
    "5. **Extracción de entidades nombradas**: Identifica y extrae nombres de personas, lugares, organizaciones, etc., del texto.\n",
    "\n",
    "6. **Desambiguación del sentido de las palabras**: Determina el significado correcto de una palabra en un contexto dado.\n",
    "\n",
    "7. **Stemming y lematización**: Normaliza las palabras al encontrar su raíz o forma base.\n",
    "\n",
    "8. **Generación de nubes de palabras**: Crea visualizaciones que muestran las palabras más frecuentes en un texto.\n",
    "\n",
    "9. **Clasificación de texto**: Clasifica automáticamente los documentos de texto en categorías predefinidas.\n",
    "\n",
    "Estas son solo algunas de las muchas funcionalidades que ofrece NLTK. Es una herramienta muy útil para aquellos que trabajan en el campo del procesamiento del lenguaje natural, ya sea para investigación, desarrollo de aplicaciones o análisis de texto en general. NLTK es utilizado por estudiantes, investigadores y profesionales en una variedad de campos, como la lingüística computacional, la inteligencia artificial y la ciencia de datos."
   ]
  },
  {
   "cell_type": "code",
   "execution_count": 38,
   "metadata": {},
   "outputs": [
    {
     "name": "stdout",
     "output_type": "stream",
     "text": [
      "0.06000000000000001\n",
      "-0.34166666666666673\n"
     ]
    }
   ],
   "source": [
    "from textblob import TextBlob\n",
    "\n",
    "text = \"\"\"\n",
    "The titular threat of The Blob has always struck me as the ultimate movie\n",
    "monster: an insatiably hungry, amoeba-like mass able to penetrate\n",
    "virtually any safeguard, capable of--as a doomed doctor chillingly\n",
    "describes it--\"assimilating flesh on contact.\n",
    "Snide comparisons to gelatin be damned, it's a concept with the most\n",
    "devastating of potential consequences, not unlike the grey goo scenario\n",
    "proposed by technological theorists fearful of\n",
    "artificial intelligence run rampant.\n",
    "\"\"\"\n",
    "\n",
    "blob = TextBlob(text)\n",
    "blob.tags  # [('The', 'DT'), ('titular', 'JJ'),\n",
    "#  ('threat', 'NN'), ('of', 'IN'), ...]\n",
    "\n",
    "blob.noun_phrases  # WordList(['titular threat', 'blob',\n",
    "#            'ultimate movie monster',\n",
    "#            'amoeba-like mass', ...])\n",
    "\n",
    "for sentence in blob.sentences:\n",
    "    print(sentence.sentiment.polarity)\n",
    "# 0.060\n",
    "# -0.341"
   ]
  },
  {
   "cell_type": "markdown",
   "metadata": {},
   "source": [
    "Este código utiliza la biblioteca TextBlob en Python para realizar análisis de sentimientos y extracción de información sobre el texto proporcionado.\n",
    "\n",
    "Primero, importa la clase `TextBlob` de la biblioteca `textblob`.\n",
    "\n",
    "Luego, se define una variable `text` que contiene un fragmento de texto, que parece ser una reflexión sobre la película \"The Blob\" y temas relacionados con la inteligencia artificial.\n",
    "\n",
    "Se crea un objeto `TextBlob` llamado `blob` pasando el texto como argumento. Este objeto se utiliza para realizar diferentes operaciones de análisis de texto.\n",
    "\n",
    "Las líneas siguientes realizan dos operaciones:\n",
    "\n",
    "1. `blob.tags`: Esto etiqueta cada palabra en el texto con su parte del discurso (por ejemplo, sustantivo, verbo, adjetivo, etc.). Retorna una lista de tuplas donde cada tupla contiene una palabra y su etiqueta de parte del discurso.\n",
    "\n",
    "2. `blob.noun_phrases`: Esta función extrae las frases sustantivas del texto. Retorna una lista de frases sustantivas encontradas en el texto.\n",
    "\n",
    "Finalmente, el código itera sobre las oraciones en el texto (`blob.sentences`) e imprime la polaridad del sentimiento de cada oración utilizando `sentence.sentiment.polarity`. La polaridad del sentimiento es un valor numérico que indica si la oración tiene un sentimiento positivo, negativo o neutral. Un valor cercano a 1 indica un sentimiento positivo, un valor cercano a -1 indica un sentimiento negativo, y un valor cercano a 0 indica un sentimiento neutral. En este caso, se imprime la polaridad de cada oración en el texto."
   ]
  }
 ],
 "metadata": {
  "kernelspec": {
   "display_name": "Python 3",
   "language": "python",
   "name": "python3"
  },
  "language_info": {
   "codemirror_mode": {
    "name": "ipython",
    "version": 3
   },
   "file_extension": ".py",
   "mimetype": "text/x-python",
   "name": "python",
   "nbconvert_exporter": "python",
   "pygments_lexer": "ipython3",
   "version": "3.12.2"
  }
 },
 "nbformat": 4,
 "nbformat_minor": 2
}
