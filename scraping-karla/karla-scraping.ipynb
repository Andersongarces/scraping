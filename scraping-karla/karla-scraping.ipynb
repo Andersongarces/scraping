{
 "cells": [
  {
   "cell_type": "code",
   "execution_count": 138,
   "metadata": {},
   "outputs": [],
   "source": [
    "import requests\n",
    "from bs4 import BeautifulSoup\n",
    "import pandas as pd\n"
   ]
  },
  {
   "cell_type": "code",
   "execution_count": 139,
   "metadata": {},
   "outputs": [
    {
     "data": {
      "text/plain": [
       "<Response [200]>"
      ]
     },
     "execution_count": 139,
     "metadata": {},
     "output_type": "execute_result"
    }
   ],
   "source": [
    "url = 'https://www.goodreads.com/author/show/42506256.Karla_Mart_nez'\n",
    "response = requests.get(url)\n",
    "response"
   ]
  },
  {
   "cell_type": "markdown",
   "metadata": {},
   "source": [
    "Algo que es realmente importante en una petición HTTP es comprobar el estado de la misma. Por regla general, si todo ha ido bien, deberíamos obtener un código 200, pero existen muchos otros"
   ]
  },
  {
   "cell_type": "code",
   "execution_count": 140,
   "metadata": {},
   "outputs": [
    {
     "name": "stdout",
     "output_type": "stream",
     "text": [
      "Karla’s Year In Books\n",
      "Karla  Martínez’s Followers (16,363)\n",
      "Add NewVideos\n",
      "Karla’s Bookshelves\n",
      "Karla’s Friends (5,837)\n",
      "2024 Reading Challenge\n",
      "Learn moreAsk the Author\n",
      "Combine EditionsKarla  Martínez’s books\n",
      "0 postsKarla  Martínez's Blog\n",
      "Karla is Currently Reading\n",
      "rssKarla’s Recent Updates\n",
      "Karla’s Quotes\n",
      "recent postsKarla’s Groups \n",
      "Karla’s Friend Comments\n"
     ]
    }
   ],
   "source": [
    "if response.status_code == 200:\n",
    "    \n",
    "    soup = BeautifulSoup(response.text, 'html.parser')\n",
    "    \n",
    "    titles = soup.find_all('h2')\n",
    "    \n",
    "    for title in titles:\n",
    "        print(title.text)\n",
    "    if not titles:\n",
    "        print('No se encontraron títulos de artículos en la página.')\n",
    "else:\n",
    "    print('Error al obtener la página:', response.status_code)"
   ]
  },
  {
   "cell_type": "code",
   "execution_count": 141,
   "metadata": {},
   "outputs": [],
   "source": [
    "import matplotlib.pyplot as plt\n",
    "from urllib.parse import urljoin"
   ]
  },
  {
   "cell_type": "code",
   "execution_count": 142,
   "metadata": {},
   "outputs": [
    {
     "name": "stdout",
     "output_type": "stream",
     "text": [
      "si hay imagenes\n",
      "si hay imagenes\n",
      "si hay imagenes\n",
      "si hay imagenes\n",
      "si hay imagenes\n",
      "si hay imagenes\n",
      "si hay imagenes\n",
      "si hay imagenes\n",
      "si hay imagenes\n",
      "si hay imagenes\n",
      "si hay imagenes\n",
      "si hay imagenes\n",
      "si hay imagenes\n",
      "si hay imagenes\n",
      "si hay imagenes\n",
      "si hay imagenes\n",
      "si hay imagenes\n",
      "si hay imagenes\n",
      "si hay imagenes\n",
      "si hay imagenes\n",
      "si hay imagenes\n",
      "si hay imagenes\n",
      "si hay imagenes\n",
      "si hay imagenes\n",
      "si hay imagenes\n",
      "si hay imagenes\n",
      "si hay imagenes\n",
      "si hay imagenes\n",
      "si hay imagenes\n",
      "si hay imagenes\n"
     ]
    }
   ],
   "source": [
    "photo_profiles = soup.find_all(\"img\", class_=\"leftAlignedImage\")\n",
    "\n",
    "for element in photo_profiles:\n",
    "    image_src = element.get('src')\n",
    "    print(\"si hay imagenes\")"
   ]
  },
  {
   "cell_type": "code",
   "execution_count": 90,
   "metadata": {},
   "outputs": [
    {
     "name": "stdout",
     "output_type": "stream",
     "text": [
      "Imagen 0 descargada correctamente.\n",
      "Imagen 1 descargada correctamente.\n",
      "Imagen 2 descargada correctamente.\n",
      "Imagen 3 descargada correctamente.\n",
      "Imagen 4 descargada correctamente.\n",
      "Imagen 5 descargada correctamente.\n",
      "Imagen 6 descargada correctamente.\n",
      "Imagen 7 descargada correctamente.\n",
      "Imagen 8 descargada correctamente.\n",
      "Imagen 9 descargada correctamente.\n",
      "Imagen 10 descargada correctamente.\n",
      "Imagen 11 descargada correctamente.\n",
      "Imagen 12 descargada correctamente.\n",
      "Imagen 13 descargada correctamente.\n",
      "Imagen 14 descargada correctamente.\n",
      "Imagen 15 descargada correctamente.\n",
      "Imagen 16 descargada correctamente.\n",
      "Imagen 17 descargada correctamente.\n",
      "Imagen 18 descargada correctamente.\n",
      "Imagen 19 descargada correctamente.\n",
      "Imagen 20 descargada correctamente.\n",
      "Imagen 21 descargada correctamente.\n",
      "Imagen 22 descargada correctamente.\n",
      "Imagen 23 descargada correctamente.\n",
      "Imagen 24 descargada correctamente.\n",
      "Imagen 25 descargada correctamente.\n",
      "Imagen 26 descargada correctamente.\n",
      "Imagen 27 descargada correctamente.\n",
      "Imagen 28 descargada correctamente.\n",
      "Imagen 29 descargada correctamente.\n"
     ]
    }
   ],
   "source": [
    "# Encuentra todas las etiquetas img con la clase leftAlignedImage\n",
    "photo_profiles = soup.find_all(\"img\", class_=\"leftAlignedImage\")\n",
    "\n",
    "# Descarga las imágenes\n",
    "for element in photo_profiles:\n",
    "    # Obtiene la URL de la imagen\n",
    "    image_src = element.get('src')\n",
    "    # Asegúrate de que la URL esté completa si es una URL relativa\n",
    "    image_url = urljoin(response, image_src) if not image_src.startswith('http') else image_src\n",
    "    # Descarga la imagen\n",
    "    response = requests.get(image_url)\n",
    "    if response.status_code == 200:\n",
    "        # Guarda la imagen en un archivo\n",
    "        with open(f\"imagen_{photo_profiles.index(element)}.jpg\", 'wb') as f:\n",
    "            f.write(response.content)\n",
    "        print(f\"Imagen {photo_profiles.index(element)} descargada correctamente.\")\n",
    "    else:\n",
    "        print(f\"No se pudo descargar la imagen {photo_profiles.index(element)}\")\n"
   ]
  },
  {
   "cell_type": "markdown",
   "metadata": {},
   "source": [
    "## Foto de perfil"
   ]
  },
  {
   "cell_type": "code",
   "execution_count": 129,
   "metadata": {},
   "outputs": [
    {
     "name": "stdout",
     "output_type": "stream",
     "text": [
      "URL de la imagen de perfil de Karla: https://images.gr-assets.com/authors/1690442159p5/42506256.jpg\n"
     ]
    }
   ],
   "source": [
    "# Encuentra la etiqueta <img> con el atributo itemprop=\"image\"\n",
    "img_tag = soup.find('img', itemprop='image')\n",
    "\n",
    "# Extrae el valor del atributo src de la etiqueta <img>\n",
    "imagen_url = img_tag['src']\n",
    "\n",
    "print(\"URL de la imagen de perfil de Karla:\", imagen_url)"
   ]
  },
  {
   "cell_type": "code",
   "execution_count": 146,
   "metadata": {},
   "outputs": [
    {
     "name": "stdout",
     "output_type": "stream",
     "text": [
      "La imagen de perfil de Karla se ha descargado correctamente como 'karla_perfil.jpg'\n"
     ]
    }
   ],
   "source": [
    "img_tag = soup.find('img', itemprop='image')\n",
    "\n",
    "if img_tag:\n",
    "    \n",
    "    imagen_url = img_tag['src']\n",
    "\n",
    "    imagen_response = requests.get(imagen_url)\n",
    "\n",
    "    if imagen_response.status_code == 200:\n",
    "       \n",
    "        with open(\"karla_perfil.jpg\", 'wb') as f:\n",
    "            f.write(imagen_response.content)\n",
    "        print(\"La imagen de perfil de Karla se ha descargado correctamente como 'karla_perfil.jpg'\")\n",
    "    else:\n",
    "        print(\"No se pudo descargar la imagen de perfil de Karla\")\n",
    "else:\n",
    "    print(\"No se encontró la etiqueta de imagen de perfil de Karla en la página\")\n"
   ]
  },
  {
   "cell_type": "markdown",
   "metadata": {},
   "source": [
    "## Descargar imagen con mejor resolución"
   ]
  },
  {
   "cell_type": "code",
   "execution_count": 93,
   "metadata": {},
   "outputs": [
    {
     "name": "stdout",
     "output_type": "stream",
     "text": [
      "La imagen de perfil de Karla con mejor resolución se ha descargado correctamente como 'karla_perfil_mejor_resolucion.jpg'\n"
     ]
    }
   ],
   "source": [
    "imagen_url_mejor_resolucion = 'https://images.gr-assets.com/authors/1690442159p8/42506256.jpg'\n",
    "\n",
    "imagen_response_mejor_resolucion = requests.get(imagen_url_mejor_resolucion)\n",
    "\n",
    "if imagen_response_mejor_resolucion.status_code == 200:\n",
    "    # Guarda la imagen en un archivo\n",
    "    with open(\"karla_perfil_mejor_resolucion.jpg\", 'wb') as f:\n",
    "        f.write(imagen_response_mejor_resolucion.content)\n",
    "    print(\"La imagen de perfil de Karla con mejor resolución se ha descargado correctamente como 'karla_perfil_mejor_resolucion.jpg'\")\n",
    "else:\n",
    "    print(\"No se pudo descargar la imagen de perfil de Karla con mejor resolución\")\n"
   ]
  },
  {
   "cell_type": "code",
   "execution_count": 115,
   "metadata": {},
   "outputs": [
    {
     "name": "stdout",
     "output_type": "stream",
     "text": [
      "si hay imagenes\n",
      "si hay imagenes\n"
     ]
    }
   ],
   "source": [
    "photo_profiles2 = soup.find_all(\"a\", href=\"/photo/author/42506256.Karla_Mart_nez\")\n",
    "\n",
    "for element in photo_profiles2:\n",
    "    image_src = element.get('src')\n",
    "    print(\"si hay imagenes\")"
   ]
  },
  {
   "cell_type": "code",
   "execution_count": 147,
   "metadata": {},
   "outputs": [
    {
     "name": "stdout",
     "output_type": "stream",
     "text": [
      "URL de la imagen: https://images.gr-assets.com/authors/1690442159p5/42506256.jpg\n",
      "No se encontró ninguna imagen dentro del enlace\n"
     ]
    }
   ],
   "source": [
    "\n",
    "if response.status_code == 200:\n",
    "    # Parseas el contenido HTML de la página\n",
    "    soup = BeautifulSoup(response.text, 'html.parser')\n",
    "\n",
    "    # Encuentras los enlaces a las fotos de perfil de Karla\n",
    "    photo_profiles2 = soup.find_all(\"a\", href=\"/photo/author/42506256.Karla_Mart_nez\")\n",
    "\n",
    "    for element in photo_profiles2:\n",
    "        # Encuentras la etiqueta de imagen dentro del enlace\n",
    "        img_tag = element.find('img')\n",
    "\n",
    "        if img_tag:\n",
    "            # Obtiene la URL de la imagen\n",
    "            image_src = img_tag.get('src')\n",
    "            print(\"URL de la imagen:\", image_src)\n",
    "        else:\n",
    "            print(\"No se encontró ninguna imagen dentro del enlace\")\n",
    "\n",
    "else:\n",
    "    print(\"No se pudo conectar a la página\")\n"
   ]
  },
  {
   "cell_type": "markdown",
   "metadata": {},
   "source": [
    "## Mejorar descarga de imagen de perfil"
   ]
  },
  {
   "cell_type": "code",
   "execution_count": 116,
   "metadata": {},
   "outputs": [
    {
     "name": "stdout",
     "output_type": "stream",
     "text": [
      "No se encontró ninguna imagen de perfil de Karla en la página\n"
     ]
    }
   ],
   "source": [
    "best_resolution = 0\n",
    "best_image_url = None\n",
    "\n",
    "for img_tag in soup.find_all('img', itemprop='image'):\n",
    "    imagen_url = img_tag['src']\n",
    "    imagen_response = requests.head(imagen_url)\n",
    "    \n",
    "    if imagen_response.status_code == 200:\n",
    "        # Obtener el tamaño de la imagen\n",
    "        content_length = int(imagen_response.headers.get('content-length', 0))\n",
    "        if content_length > best_resolution:\n",
    "            best_resolution = content_length\n",
    "            best_image_url = imagen_url\n",
    "\n",
    "if best_image_url:\n",
    "    imagen_response = requests.get(best_image_url)\n",
    "    if imagen_response.status_code == 200:\n",
    "        with open(\"karla_perfil.jpg\", 'wb') as f:\n",
    "            f.write(imagen_response.content)\n",
    "        print(\"La imagen de perfil de Karla se ha descargado correctamente como 'karla_perfil.jpg'\")\n",
    "    else:\n",
    "        print(\"No se pudo descargar la imagen de perfil de Karla\")\n",
    "else:\n",
    "    print(\"No se encontró ninguna imagen de perfil de Karla en la página\")\n"
   ]
  },
  {
   "cell_type": "code",
   "execution_count": 112,
   "metadata": {},
   "outputs": [],
   "source": [
    "for img_tag in soup.find_all('img', itemprop='image'):\n",
    "    print(img_tag)\n"
   ]
  },
  {
   "cell_type": "markdown",
   "metadata": {},
   "source": [
    "## Ingresar a la sección 'más fotos'"
   ]
  },
  {
   "cell_type": "code",
   "execution_count": 113,
   "metadata": {},
   "outputs": [
    {
     "name": "stdout",
     "output_type": "stream",
     "text": [
      "No se encontró la sección de imágenes en la página\n"
     ]
    }
   ],
   "source": [
    "\n",
    "\n",
    "# Busca el contenedor de la sección\n",
    "seccion_contenedor = soup.find('html', class_=\"desktop withSiteHeaderTopFullImage picture es5array es5date es5function es5object strictmode es5string json es5syntax es5undefined es5 no-touchevents cssanimations flexbox flexwrap csstransforms localstorage\")\n",
    "\n",
    "if seccion_contenedor:\n",
    "    # Encuentra todas las etiquetas <img> dentro de la sección\n",
    "    imagenes = seccion_contenedor.find_all('img')\n",
    "\n",
    "    # Itera sobre las imágenes y descárgalas\n",
    "    for index, img_tag in enumerate(imagenes):\n",
    "        imagen_url = img_tag['src']\n",
    "        imagen_response = requests.get(imagen_url)\n",
    "        if imagen_response.status_code == 200:\n",
    "            with open(f\"imagen_{index}.jpg\", 'wb') as f:\n",
    "                f.write(imagen_response.content)\n",
    "            print(f\"Imagen {index} descargada correctamente.\")\n",
    "        else:\n",
    "            print(f\"No se pudo descargar la imagen {index}\")\n",
    "else:\n",
    "    print(\"No se encontró la sección de imágenes en la página\")"
   ]
  },
  {
   "cell_type": "markdown",
   "metadata": {},
   "source": [
    "## Descargar la portada de los libros 'currently reading'"
   ]
  },
  {
   "cell_type": "code",
   "execution_count": 97,
   "metadata": {},
   "outputs": [],
   "source": [
    "photo_books = soup.find_all('div', class_=\"firstcol\")\n",
    "\n",
    "for element in photo_books:\n",
    "    image_src = element.get('src')\n",
    "    print(\"si hay imagenes\")"
   ]
  },
  {
   "cell_type": "code",
   "execution_count": 98,
   "metadata": {},
   "outputs": [],
   "source": [
    "# Encuentra todas las etiquetas div con la clase firstcol\n",
    "photo_books = soup.find_all('div', class_=\"firstcol\")\n",
    "\n",
    "# Descarga las imágenes\n",
    "for index, element in enumerate(photo_books):\n",
    "    # Encuentra todas las etiquetas img dentro de la etiqueta div\n",
    "    image_tags = element.find_all('img')\n",
    "    \n",
    "    # Itera sobre las etiquetas img encontradas y descarga las imágenes\n",
    "    for img_tag in image_tags:\n",
    "        # Obtiene la URL de la imagen\n",
    "        image_src = img_tag.get('src')\n",
    "        # Asegúrate de que la URL esté completa si es una URL relativa\n",
    "        image_url = urljoin(url, image_src) if not image_src.startswith('http') else image_src\n",
    "        # Descarga la imagen\n",
    "        response = requests.get(image_url)\n",
    "        if response.status_code == 200:\n",
    "            # Guarda la imagen en un archivo\n",
    "            with open(f\"imagen_{index}_{image_tags.index(img_tag)}.jpg\", 'wb') as f:\n",
    "                f.write(response.content)\n",
    "            print(f\"Imagen {index}_{image_tags.index(img_tag)} descargada correctamente.\")\n",
    "        else:\n",
    "            print(f\"No se pudo descargar la imagen {index}_{image_tags.index(img_tag)}\")\n"
   ]
  }
 ],
 "metadata": {
  "kernelspec": {
   "display_name": "Python 3",
   "language": "python",
   "name": "python3"
  },
  "language_info": {
   "codemirror_mode": {
    "name": "ipython",
    "version": 3
   },
   "file_extension": ".py",
   "mimetype": "text/x-python",
   "name": "python",
   "nbconvert_exporter": "python",
   "pygments_lexer": "ipython3",
   "version": "3.12.2"
  }
 },
 "nbformat": 4,
 "nbformat_minor": 2
}
